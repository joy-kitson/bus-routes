{
 "cells": [
  {
   "cell_type": "code",
   "execution_count": 1,
   "metadata": {},
   "outputs": [],
   "source": [
    "import pandas as pd\n",
    "import numpy as np"
   ]
  },
  {
   "cell_type": "code",
   "execution_count": 2,
   "metadata": {},
   "outputs": [],
   "source": [
    "path = \"../data/route25_potential_and_real_stops.csv\""
   ]
  },
  {
   "cell_type": "code",
   "execution_count": 3,
   "metadata": {},
   "outputs": [],
   "source": [
    "r25 = pd.read_csv(path)"
   ]
  },
  {
   "cell_type": "code",
   "execution_count": 21,
   "metadata": {},
   "outputs": [
    {
     "data": {
      "text/html": [
       "<div>\n",
       "<style scoped>\n",
       "    .dataframe tbody tr th:only-of-type {\n",
       "        vertical-align: middle;\n",
       "    }\n",
       "\n",
       "    .dataframe tbody tr th {\n",
       "        vertical-align: top;\n",
       "    }\n",
       "\n",
       "    .dataframe thead th {\n",
       "        text-align: right;\n",
       "    }\n",
       "</style>\n",
       "<table border=\"1\" class=\"dataframe\">\n",
       "  <thead>\n",
       "    <tr style=\"text-align: right;\">\n",
       "      <th></th>\n",
       "      <th>UniqueNum</th>\n",
       "      <th>Distance from initial stop (feet)</th>\n",
       "      <th>SqFtBuffere</th>\n",
       "      <th>Est_TotPop</th>\n",
       "      <th>Est_TotMinority</th>\n",
       "      <th>Est_TotPov</th>\n",
       "      <th>Est_TotLEP</th>\n",
       "      <th>Est_TotPop_Density</th>\n",
       "      <th>Transfer</th>\n",
       "      <th>CorrespondingStopID</th>\n",
       "    </tr>\n",
       "  </thead>\n",
       "  <tbody>\n",
       "    <tr>\n",
       "      <td>0</td>\n",
       "      <td>783</td>\n",
       "      <td>0</td>\n",
       "      <td>4.034183e+06</td>\n",
       "      <td>1464</td>\n",
       "      <td>1254</td>\n",
       "      <td>697</td>\n",
       "      <td>37</td>\n",
       "      <td>7456.09</td>\n",
       "      <td>Yes</td>\n",
       "      <td>58.0</td>\n",
       "    </tr>\n",
       "    <tr>\n",
       "      <td>1</td>\n",
       "      <td>784</td>\n",
       "      <td>100</td>\n",
       "      <td>4.008440e+06</td>\n",
       "      <td>1481</td>\n",
       "      <td>1270</td>\n",
       "      <td>730</td>\n",
       "      <td>37</td>\n",
       "      <td>7542.67</td>\n",
       "      <td>No</td>\n",
       "      <td>NaN</td>\n",
       "    </tr>\n",
       "    <tr>\n",
       "      <td>2</td>\n",
       "      <td>785</td>\n",
       "      <td>200</td>\n",
       "      <td>3.983578e+06</td>\n",
       "      <td>1498</td>\n",
       "      <td>1287</td>\n",
       "      <td>762</td>\n",
       "      <td>37</td>\n",
       "      <td>7629.25</td>\n",
       "      <td>No</td>\n",
       "      <td>NaN</td>\n",
       "    </tr>\n",
       "    <tr>\n",
       "      <td>3</td>\n",
       "      <td>787</td>\n",
       "      <td>400</td>\n",
       "      <td>3.934566e+06</td>\n",
       "      <td>1506</td>\n",
       "      <td>1295</td>\n",
       "      <td>804</td>\n",
       "      <td>38</td>\n",
       "      <td>7670.00</td>\n",
       "      <td>No</td>\n",
       "      <td>NaN</td>\n",
       "    </tr>\n",
       "    <tr>\n",
       "      <td>4</td>\n",
       "      <td>788</td>\n",
       "      <td>500</td>\n",
       "      <td>3.911622e+06</td>\n",
       "      <td>1496</td>\n",
       "      <td>1283</td>\n",
       "      <td>812</td>\n",
       "      <td>38</td>\n",
       "      <td>7619.07</td>\n",
       "      <td>Yes</td>\n",
       "      <td>675.0</td>\n",
       "    </tr>\n",
       "  </tbody>\n",
       "</table>\n",
       "</div>"
      ],
      "text/plain": [
       "   UniqueNum  Distance from initial stop (feet)   SqFtBuffere  Est_TotPop  \\\n",
       "0        783                                  0  4.034183e+06        1464   \n",
       "1        784                                100  4.008440e+06        1481   \n",
       "2        785                                200  3.983578e+06        1498   \n",
       "3        787                                400  3.934566e+06        1506   \n",
       "4        788                                500  3.911622e+06        1496   \n",
       "\n",
       "   Est_TotMinority  Est_TotPov  Est_TotLEP  Est_TotPop_Density Transfer  \\\n",
       "0             1254         697          37             7456.09      Yes   \n",
       "1             1270         730          37             7542.67       No   \n",
       "2             1287         762          37             7629.25       No   \n",
       "3             1295         804          38             7670.00       No   \n",
       "4             1283         812          38             7619.07      Yes   \n",
       "\n",
       "   CorrespondingStopID  \n",
       "0                 58.0  \n",
       "1                  NaN  \n",
       "2                  NaN  \n",
       "3                  NaN  \n",
       "4                675.0  "
      ]
     },
     "execution_count": 21,
     "metadata": {},
     "output_type": "execute_result"
    }
   ],
   "source": [
    "r25.head()"
   ]
  },
  {
   "cell_type": "code",
   "execution_count": 5,
   "metadata": {},
   "outputs": [
    {
     "data": {
      "text/plain": [
       "(1, 8)"
      ]
     },
     "execution_count": 5,
     "metadata": {},
     "output_type": "execute_result"
    }
   ],
   "source": [
    "transfer_distances = r25[r25['Transfer'] == 'Yes']['Distance from initial stop (feet)'].values\n",
    "transfer_distances = transfer_distances.reshape((1, transfer_distances.shape[0]))\n",
    "transfer_distances.shape"
   ]
  },
  {
   "cell_type": "code",
   "execution_count": 6,
   "metadata": {},
   "outputs": [
    {
     "data": {
      "text/plain": [
       "(562, 1)"
      ]
     },
     "execution_count": 6,
     "metadata": {},
     "output_type": "execute_result"
    }
   ],
   "source": [
    "non_transfer_distances = r25[r25['Transfer'] == 'No']['Distance from initial stop (feet)'].values\n",
    "non_transfer_distances = non_transfer_distances.reshape((non_transfer_distances.shape[0], 1))\n",
    "non_transfer_distances.shape"
   ]
  },
  {
   "cell_type": "code",
   "execution_count": 7,
   "metadata": {},
   "outputs": [
    {
     "data": {
      "text/plain": [
       "(562, 8)"
      ]
     },
     "execution_count": 7,
     "metadata": {},
     "output_type": "execute_result"
    }
   ],
   "source": [
    "transfer_matrix = np.repeat(transfer_distances, non_transfer_distances.shape[0], axis=0)\n",
    "transfer_matrix.shape"
   ]
  },
  {
   "cell_type": "code",
   "execution_count": 8,
   "metadata": {},
   "outputs": [
    {
     "data": {
      "text/plain": [
       "(562, 8)"
      ]
     },
     "execution_count": 8,
     "metadata": {},
     "output_type": "execute_result"
    }
   ],
   "source": [
    "non_transfer_matrix = np.repeat(non_transfer_distances, transfer_distances.shape[1], axis=1)\n",
    "non_transfer_matrix.shape"
   ]
  },
  {
   "cell_type": "code",
   "execution_count": 9,
   "metadata": {},
   "outputs": [],
   "source": [
    "distances_from_transfers = np.absolute(transfer_matrix - non_transfer_matrix)"
   ]
  },
  {
   "cell_type": "code",
   "execution_count": 10,
   "metadata": {},
   "outputs": [],
   "source": [
    "fivehundred = 500 * np.ones(distances_from_transfers.shape)\n",
    "less_than_500 = np.less(distances_from_transfers, fivehundred)"
   ]
  },
  {
   "cell_type": "code",
   "execution_count": 11,
   "metadata": {},
   "outputs": [
    {
     "data": {
      "text/plain": [
       "array([[ True,  True, False, ..., False, False, False],\n",
       "       [ True,  True, False, ..., False, False, False],\n",
       "       [ True,  True, False, ..., False, False, False],\n",
       "       ...,\n",
       "       [False, False, False, ..., False, False,  True],\n",
       "       [False, False, False, ..., False, False,  True],\n",
       "       [False, False, False, ..., False, False,  True]])"
      ]
     },
     "execution_count": 11,
     "metadata": {},
     "output_type": "execute_result"
    }
   ],
   "source": [
    "less_than_500"
   ]
  },
  {
   "cell_type": "code",
   "execution_count": 12,
   "metadata": {},
   "outputs": [
    {
     "data": {
      "text/plain": [
       "(562,)"
      ]
     },
     "execution_count": 12,
     "metadata": {},
     "output_type": "execute_result"
    }
   ],
   "source": [
    "stop_invalid = np.any(less_than_500, axis=1)\n",
    "stop_invalid.shape"
   ]
  },
  {
   "cell_type": "code",
   "execution_count": 13,
   "metadata": {},
   "outputs": [
    {
     "data": {
      "text/plain": [
       "(562,)"
      ]
     },
     "execution_count": 13,
     "metadata": {},
     "output_type": "execute_result"
    }
   ],
   "source": [
    "stop_valid = np.logical_not(stop_invalid)\n",
    "stop_valid.shape"
   ]
  },
  {
   "cell_type": "code",
   "execution_count": 14,
   "metadata": {},
   "outputs": [
    {
     "data": {
      "text/plain": [
       "531"
      ]
     },
     "execution_count": 14,
     "metadata": {},
     "output_type": "execute_result"
    }
   ],
   "source": [
    "np.sum(stop_valid)"
   ]
  },
  {
   "cell_type": "code",
   "execution_count": 34,
   "metadata": {},
   "outputs": [],
   "source": [
    "r25_valid_nontransfer = r25[r25['Transfer'] == 'No'][stop_valid]\n",
    "r25_transfer = r25[r25['Transfer'] == 'Yes']\n",
    "r25_valid = pd.concat([r25_valid_nontransfer, r25_transfer])\n",
    "r25_valid.sort_values('Distance from initial stop (feet)', inplace=True)"
   ]
  },
  {
   "cell_type": "code",
   "execution_count": 35,
   "metadata": {},
   "outputs": [
    {
     "data": {
      "text/html": [
       "<div>\n",
       "<style scoped>\n",
       "    .dataframe tbody tr th:only-of-type {\n",
       "        vertical-align: middle;\n",
       "    }\n",
       "\n",
       "    .dataframe tbody tr th {\n",
       "        vertical-align: top;\n",
       "    }\n",
       "\n",
       "    .dataframe thead th {\n",
       "        text-align: right;\n",
       "    }\n",
       "</style>\n",
       "<table border=\"1\" class=\"dataframe\">\n",
       "  <thead>\n",
       "    <tr style=\"text-align: right;\">\n",
       "      <th></th>\n",
       "      <th>UniqueNum</th>\n",
       "      <th>Distance from initial stop (feet)</th>\n",
       "      <th>SqFtBuffere</th>\n",
       "      <th>Est_TotPop</th>\n",
       "      <th>Est_TotMinority</th>\n",
       "      <th>Est_TotPov</th>\n",
       "      <th>Est_TotLEP</th>\n",
       "      <th>Est_TotPop_Density</th>\n",
       "      <th>Transfer</th>\n",
       "      <th>CorrespondingStopID</th>\n",
       "    </tr>\n",
       "  </thead>\n",
       "  <tbody>\n",
       "    <tr>\n",
       "      <td>0</td>\n",
       "      <td>783</td>\n",
       "      <td>0</td>\n",
       "      <td>4.034183e+06</td>\n",
       "      <td>1464</td>\n",
       "      <td>1254</td>\n",
       "      <td>697</td>\n",
       "      <td>37</td>\n",
       "      <td>7456.09</td>\n",
       "      <td>Yes</td>\n",
       "      <td>58.0</td>\n",
       "    </tr>\n",
       "    <tr>\n",
       "      <td>4</td>\n",
       "      <td>788</td>\n",
       "      <td>500</td>\n",
       "      <td>3.911622e+06</td>\n",
       "      <td>1496</td>\n",
       "      <td>1283</td>\n",
       "      <td>812</td>\n",
       "      <td>38</td>\n",
       "      <td>7619.07</td>\n",
       "      <td>Yes</td>\n",
       "      <td>675.0</td>\n",
       "    </tr>\n",
       "    <tr>\n",
       "      <td>11</td>\n",
       "      <td>796</td>\n",
       "      <td>1300</td>\n",
       "      <td>3.130417e+06</td>\n",
       "      <td>1212</td>\n",
       "      <td>996</td>\n",
       "      <td>675</td>\n",
       "      <td>48</td>\n",
       "      <td>6172.67</td>\n",
       "      <td>Yes</td>\n",
       "      <td>907.0</td>\n",
       "    </tr>\n",
       "    <tr>\n",
       "      <td>16</td>\n",
       "      <td>808</td>\n",
       "      <td>2500</td>\n",
       "      <td>1.681497e+06</td>\n",
       "      <td>767</td>\n",
       "      <td>562</td>\n",
       "      <td>310</td>\n",
       "      <td>44</td>\n",
       "      <td>3906.30</td>\n",
       "      <td>Yes</td>\n",
       "      <td>1795.0</td>\n",
       "    </tr>\n",
       "    <tr>\n",
       "      <td>17</td>\n",
       "      <td>818</td>\n",
       "      <td>3500</td>\n",
       "      <td>2.183919e+04</td>\n",
       "      <td>612</td>\n",
       "      <td>448</td>\n",
       "      <td>217</td>\n",
       "      <td>25</td>\n",
       "      <td>3116.89</td>\n",
       "      <td>No</td>\n",
       "      <td>1796.0</td>\n",
       "    </tr>\n",
       "  </tbody>\n",
       "</table>\n",
       "</div>"
      ],
      "text/plain": [
       "    UniqueNum  Distance from initial stop (feet)   SqFtBuffere  Est_TotPop  \\\n",
       "0         783                                  0  4.034183e+06        1464   \n",
       "4         788                                500  3.911622e+06        1496   \n",
       "11        796                               1300  3.130417e+06        1212   \n",
       "16        808                               2500  1.681497e+06         767   \n",
       "17        818                               3500  2.183919e+04         612   \n",
       "\n",
       "    Est_TotMinority  Est_TotPov  Est_TotLEP  Est_TotPop_Density Transfer  \\\n",
       "0              1254         697          37             7456.09      Yes   \n",
       "4              1283         812          38             7619.07      Yes   \n",
       "11              996         675          48             6172.67      Yes   \n",
       "16              562         310          44             3906.30      Yes   \n",
       "17              448         217          25             3116.89       No   \n",
       "\n",
       "    CorrespondingStopID  \n",
       "0                  58.0  \n",
       "4                 675.0  \n",
       "11                907.0  \n",
       "16               1795.0  \n",
       "17               1796.0  "
      ]
     },
     "execution_count": 35,
     "metadata": {},
     "output_type": "execute_result"
    }
   ],
   "source": [
    "r25_valid.head()"
   ]
  },
  {
   "cell_type": "code",
   "execution_count": 36,
   "metadata": {},
   "outputs": [],
   "source": [
    "r25_valid.to_csv('../data/route_25_valid.csv', index=False)"
   ]
  },
  {
   "cell_type": "code",
   "execution_count": null,
   "metadata": {},
   "outputs": [],
   "source": []
  }
 ],
 "metadata": {
  "kernelspec": {
   "display_name": "Python 3",
   "language": "python",
   "name": "python3"
  },
  "language_info": {
   "codemirror_mode": {
    "name": "ipython",
    "version": 3
   },
   "file_extension": ".py",
   "mimetype": "text/x-python",
   "name": "python",
   "nbconvert_exporter": "python",
   "pygments_lexer": "ipython3",
   "version": "3.7.4"
  }
 },
 "nbformat": 4,
 "nbformat_minor": 4
}
