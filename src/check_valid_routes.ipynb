{
 "cells": [
  {
   "cell_type": "code",
   "execution_count": 17,
   "metadata": {},
   "outputs": [],
   "source": [
    "import pandas as pd\n",
    "import numpy as np"
   ]
  },
  {
   "cell_type": "code",
   "execution_count": 2,
   "metadata": {},
   "outputs": [],
   "source": [
    "path = \"../data/route25_potential_and_real_stops.csv\""
   ]
  },
  {
   "cell_type": "code",
   "execution_count": 3,
   "metadata": {},
   "outputs": [],
   "source": [
    "r25 = pd.read_csv(path)"
   ]
  },
  {
   "cell_type": "code",
   "execution_count": 58,
   "metadata": {},
   "outputs": [
    {
     "data": {
      "text/html": [
       "<div>\n",
       "<style scoped>\n",
       "    .dataframe tbody tr th:only-of-type {\n",
       "        vertical-align: middle;\n",
       "    }\n",
       "\n",
       "    .dataframe tbody tr th {\n",
       "        vertical-align: top;\n",
       "    }\n",
       "\n",
       "    .dataframe thead th {\n",
       "        text-align: right;\n",
       "    }\n",
       "</style>\n",
       "<table border=\"1\" class=\"dataframe\">\n",
       "  <thead>\n",
       "    <tr style=\"text-align: right;\">\n",
       "      <th></th>\n",
       "      <th>UniqueNum</th>\n",
       "      <th>Distance from initial stop (feet)</th>\n",
       "      <th>SqFtBuffere</th>\n",
       "      <th>Est_TotPop</th>\n",
       "      <th>Est_TotMinority</th>\n",
       "      <th>Est_TotPov</th>\n",
       "      <th>Est_TotLEP</th>\n",
       "      <th>Est_TotPop_Density</th>\n",
       "      <th>Transfer</th>\n",
       "      <th>CorrespondingStopID</th>\n",
       "    </tr>\n",
       "  </thead>\n",
       "  <tbody>\n",
       "    <tr>\n",
       "      <td>0</td>\n",
       "      <td>783</td>\n",
       "      <td>0</td>\n",
       "      <td>4.034183e+06</td>\n",
       "      <td>1464</td>\n",
       "      <td>1254</td>\n",
       "      <td>697</td>\n",
       "      <td>37</td>\n",
       "      <td>7456.09</td>\n",
       "      <td>Yes</td>\n",
       "      <td>58.0</td>\n",
       "    </tr>\n",
       "    <tr>\n",
       "      <td>1</td>\n",
       "      <td>784</td>\n",
       "      <td>100</td>\n",
       "      <td>4.008440e+06</td>\n",
       "      <td>1481</td>\n",
       "      <td>1270</td>\n",
       "      <td>730</td>\n",
       "      <td>37</td>\n",
       "      <td>7542.67</td>\n",
       "      <td>No</td>\n",
       "      <td>NaN</td>\n",
       "    </tr>\n",
       "    <tr>\n",
       "      <td>2</td>\n",
       "      <td>785</td>\n",
       "      <td>200</td>\n",
       "      <td>3.983578e+06</td>\n",
       "      <td>1498</td>\n",
       "      <td>1287</td>\n",
       "      <td>762</td>\n",
       "      <td>37</td>\n",
       "      <td>7629.25</td>\n",
       "      <td>No</td>\n",
       "      <td>NaN</td>\n",
       "    </tr>\n",
       "    <tr>\n",
       "      <td>3</td>\n",
       "      <td>787</td>\n",
       "      <td>400</td>\n",
       "      <td>3.934566e+06</td>\n",
       "      <td>1506</td>\n",
       "      <td>1295</td>\n",
       "      <td>804</td>\n",
       "      <td>38</td>\n",
       "      <td>7670.00</td>\n",
       "      <td>No</td>\n",
       "      <td>NaN</td>\n",
       "    </tr>\n",
       "    <tr>\n",
       "      <td>4</td>\n",
       "      <td>788</td>\n",
       "      <td>500</td>\n",
       "      <td>3.911622e+06</td>\n",
       "      <td>1496</td>\n",
       "      <td>1283</td>\n",
       "      <td>812</td>\n",
       "      <td>38</td>\n",
       "      <td>7619.07</td>\n",
       "      <td>Yes</td>\n",
       "      <td>675.0</td>\n",
       "    </tr>\n",
       "    <tr>\n",
       "      <td>5</td>\n",
       "      <td>790</td>\n",
       "      <td>700</td>\n",
       "      <td>3.869047e+06</td>\n",
       "      <td>1454</td>\n",
       "      <td>1240</td>\n",
       "      <td>813</td>\n",
       "      <td>40</td>\n",
       "      <td>7405.16</td>\n",
       "      <td>No</td>\n",
       "      <td>NaN</td>\n",
       "    </tr>\n",
       "    <tr>\n",
       "      <td>6</td>\n",
       "      <td>791</td>\n",
       "      <td>800</td>\n",
       "      <td>3.797914e+06</td>\n",
       "      <td>1427</td>\n",
       "      <td>1212</td>\n",
       "      <td>806</td>\n",
       "      <td>42</td>\n",
       "      <td>7267.65</td>\n",
       "      <td>No</td>\n",
       "      <td>NaN</td>\n",
       "    </tr>\n",
       "    <tr>\n",
       "      <td>7</td>\n",
       "      <td>792</td>\n",
       "      <td>900</td>\n",
       "      <td>3.673538e+06</td>\n",
       "      <td>1396</td>\n",
       "      <td>1182</td>\n",
       "      <td>791</td>\n",
       "      <td>42</td>\n",
       "      <td>7109.77</td>\n",
       "      <td>No</td>\n",
       "      <td>NaN</td>\n",
       "    </tr>\n",
       "    <tr>\n",
       "      <td>8</td>\n",
       "      <td>793</td>\n",
       "      <td>1000</td>\n",
       "      <td>3.542189e+06</td>\n",
       "      <td>1357</td>\n",
       "      <td>1145</td>\n",
       "      <td>771</td>\n",
       "      <td>43</td>\n",
       "      <td>6911.14</td>\n",
       "      <td>No</td>\n",
       "      <td>NaN</td>\n",
       "    </tr>\n",
       "    <tr>\n",
       "      <td>9</td>\n",
       "      <td>794</td>\n",
       "      <td>1100</td>\n",
       "      <td>3.408509e+06</td>\n",
       "      <td>1314</td>\n",
       "      <td>1100</td>\n",
       "      <td>746</td>\n",
       "      <td>44</td>\n",
       "      <td>6692.15</td>\n",
       "      <td>No</td>\n",
       "      <td>NaN</td>\n",
       "    </tr>\n",
       "    <tr>\n",
       "      <td>10</td>\n",
       "      <td>795</td>\n",
       "      <td>1200</td>\n",
       "      <td>3.271250e+06</td>\n",
       "      <td>1263</td>\n",
       "      <td>1049</td>\n",
       "      <td>713</td>\n",
       "      <td>46</td>\n",
       "      <td>6432.41</td>\n",
       "      <td>No</td>\n",
       "      <td>NaN</td>\n",
       "    </tr>\n",
       "    <tr>\n",
       "      <td>11</td>\n",
       "      <td>796</td>\n",
       "      <td>1300</td>\n",
       "      <td>3.130417e+06</td>\n",
       "      <td>1212</td>\n",
       "      <td>996</td>\n",
       "      <td>675</td>\n",
       "      <td>48</td>\n",
       "      <td>6172.67</td>\n",
       "      <td>Yes</td>\n",
       "      <td>907.0</td>\n",
       "    </tr>\n",
       "    <tr>\n",
       "      <td>12</td>\n",
       "      <td>797</td>\n",
       "      <td>1400</td>\n",
       "      <td>2.985388e+06</td>\n",
       "      <td>1159</td>\n",
       "      <td>940</td>\n",
       "      <td>631</td>\n",
       "      <td>49</td>\n",
       "      <td>5902.74</td>\n",
       "      <td>No</td>\n",
       "      <td>NaN</td>\n",
       "    </tr>\n",
       "    <tr>\n",
       "      <td>13</td>\n",
       "      <td>798</td>\n",
       "      <td>1500</td>\n",
       "      <td>2.837469e+06</td>\n",
       "      <td>1101</td>\n",
       "      <td>883</td>\n",
       "      <td>591</td>\n",
       "      <td>48</td>\n",
       "      <td>5607.35</td>\n",
       "      <td>No</td>\n",
       "      <td>NaN</td>\n",
       "    </tr>\n",
       "    <tr>\n",
       "      <td>14</td>\n",
       "      <td>799</td>\n",
       "      <td>1600</td>\n",
       "      <td>2.687047e+06</td>\n",
       "      <td>1043</td>\n",
       "      <td>826</td>\n",
       "      <td>549</td>\n",
       "      <td>47</td>\n",
       "      <td>5311.96</td>\n",
       "      <td>No</td>\n",
       "      <td>NaN</td>\n",
       "    </tr>\n",
       "    <tr>\n",
       "      <td>15</td>\n",
       "      <td>800</td>\n",
       "      <td>1700</td>\n",
       "      <td>2.534305e+06</td>\n",
       "      <td>987</td>\n",
       "      <td>769</td>\n",
       "      <td>508</td>\n",
       "      <td>46</td>\n",
       "      <td>5026.75</td>\n",
       "      <td>No</td>\n",
       "      <td>NaN</td>\n",
       "    </tr>\n",
       "    <tr>\n",
       "      <td>16</td>\n",
       "      <td>808</td>\n",
       "      <td>2500</td>\n",
       "      <td>1.681497e+06</td>\n",
       "      <td>767</td>\n",
       "      <td>562</td>\n",
       "      <td>310</td>\n",
       "      <td>44</td>\n",
       "      <td>3906.30</td>\n",
       "      <td>Yes</td>\n",
       "      <td>1795.0</td>\n",
       "    </tr>\n",
       "    <tr>\n",
       "      <td>17</td>\n",
       "      <td>818</td>\n",
       "      <td>3500</td>\n",
       "      <td>2.183919e+04</td>\n",
       "      <td>612</td>\n",
       "      <td>448</td>\n",
       "      <td>217</td>\n",
       "      <td>25</td>\n",
       "      <td>3116.89</td>\n",
       "      <td>No</td>\n",
       "      <td>1796.0</td>\n",
       "    </tr>\n",
       "    <tr>\n",
       "      <td>18</td>\n",
       "      <td>819</td>\n",
       "      <td>3600</td>\n",
       "      <td>3.728755e+06</td>\n",
       "      <td>597</td>\n",
       "      <td>438</td>\n",
       "      <td>210</td>\n",
       "      <td>24</td>\n",
       "      <td>3040.50</td>\n",
       "      <td>No</td>\n",
       "      <td>NaN</td>\n",
       "    </tr>\n",
       "    <tr>\n",
       "      <td>19</td>\n",
       "      <td>820</td>\n",
       "      <td>3700</td>\n",
       "      <td>3.923674e+06</td>\n",
       "      <td>582</td>\n",
       "      <td>427</td>\n",
       "      <td>203</td>\n",
       "      <td>22</td>\n",
       "      <td>2964.10</td>\n",
       "      <td>No</td>\n",
       "      <td>NaN</td>\n",
       "    </tr>\n",
       "  </tbody>\n",
       "</table>\n",
       "</div>"
      ],
      "text/plain": [
       "    UniqueNum  Distance from initial stop (feet)   SqFtBuffere  Est_TotPop  \\\n",
       "0         783                                  0  4.034183e+06        1464   \n",
       "1         784                                100  4.008440e+06        1481   \n",
       "2         785                                200  3.983578e+06        1498   \n",
       "3         787                                400  3.934566e+06        1506   \n",
       "4         788                                500  3.911622e+06        1496   \n",
       "5         790                                700  3.869047e+06        1454   \n",
       "6         791                                800  3.797914e+06        1427   \n",
       "7         792                                900  3.673538e+06        1396   \n",
       "8         793                               1000  3.542189e+06        1357   \n",
       "9         794                               1100  3.408509e+06        1314   \n",
       "10        795                               1200  3.271250e+06        1263   \n",
       "11        796                               1300  3.130417e+06        1212   \n",
       "12        797                               1400  2.985388e+06        1159   \n",
       "13        798                               1500  2.837469e+06        1101   \n",
       "14        799                               1600  2.687047e+06        1043   \n",
       "15        800                               1700  2.534305e+06         987   \n",
       "16        808                               2500  1.681497e+06         767   \n",
       "17        818                               3500  2.183919e+04         612   \n",
       "18        819                               3600  3.728755e+06         597   \n",
       "19        820                               3700  3.923674e+06         582   \n",
       "\n",
       "    Est_TotMinority  Est_TotPov  Est_TotLEP  Est_TotPop_Density Transfer  \\\n",
       "0              1254         697          37             7456.09      Yes   \n",
       "1              1270         730          37             7542.67       No   \n",
       "2              1287         762          37             7629.25       No   \n",
       "3              1295         804          38             7670.00       No   \n",
       "4              1283         812          38             7619.07      Yes   \n",
       "5              1240         813          40             7405.16       No   \n",
       "6              1212         806          42             7267.65       No   \n",
       "7              1182         791          42             7109.77       No   \n",
       "8              1145         771          43             6911.14       No   \n",
       "9              1100         746          44             6692.15       No   \n",
       "10             1049         713          46             6432.41       No   \n",
       "11              996         675          48             6172.67      Yes   \n",
       "12              940         631          49             5902.74       No   \n",
       "13              883         591          48             5607.35       No   \n",
       "14              826         549          47             5311.96       No   \n",
       "15              769         508          46             5026.75       No   \n",
       "16              562         310          44             3906.30      Yes   \n",
       "17              448         217          25             3116.89       No   \n",
       "18              438         210          24             3040.50       No   \n",
       "19              427         203          22             2964.10       No   \n",
       "\n",
       "    CorrespondingStopID  \n",
       "0                  58.0  \n",
       "1                   NaN  \n",
       "2                   NaN  \n",
       "3                   NaN  \n",
       "4                 675.0  \n",
       "5                   NaN  \n",
       "6                   NaN  \n",
       "7                   NaN  \n",
       "8                   NaN  \n",
       "9                   NaN  \n",
       "10                  NaN  \n",
       "11                907.0  \n",
       "12                  NaN  \n",
       "13                  NaN  \n",
       "14                  NaN  \n",
       "15                  NaN  \n",
       "16               1795.0  \n",
       "17               1796.0  \n",
       "18                  NaN  \n",
       "19                  NaN  "
      ]
     },
     "execution_count": 58,
     "metadata": {},
     "output_type": "execute_result"
    }
   ],
   "source": [
    "r25.head(20)"
   ]
  },
  {
   "cell_type": "code",
   "execution_count": 26,
   "metadata": {},
   "outputs": [
    {
     "data": {
      "text/plain": [
       "(1, 8)"
      ]
     },
     "execution_count": 26,
     "metadata": {},
     "output_type": "execute_result"
    }
   ],
   "source": [
    "transfer_distances = r25[r25['Transfer'] == 'Yes']['Distance from initial stop (feet)'].values\n",
    "transfer_distances = transfer_distances.reshape((1, transfer_distances.shape[0]))\n",
    "transfer_distances.shape"
   ]
  },
  {
   "cell_type": "code",
   "execution_count": 28,
   "metadata": {},
   "outputs": [
    {
     "data": {
      "text/plain": [
       "(562, 1)"
      ]
     },
     "execution_count": 28,
     "metadata": {},
     "output_type": "execute_result"
    }
   ],
   "source": [
    "non_transfer_distances = r25[r25['Transfer'] == 'No']['Distance from initial stop (feet)'].values\n",
    "non_transfer_distances = non_transfer_distances.reshape((non_transfer_distances.shape[0], 1))\n",
    "non_transfer_distances.shape"
   ]
  },
  {
   "cell_type": "code",
   "execution_count": 30,
   "metadata": {},
   "outputs": [
    {
     "data": {
      "text/plain": [
       "(562, 8)"
      ]
     },
     "execution_count": 30,
     "metadata": {},
     "output_type": "execute_result"
    }
   ],
   "source": [
    "transfer_matrix = np.repeat(transfer_distances, non_transfer_distances.shape[0], axis=0)\n",
    "transfer_matrix.shape"
   ]
  },
  {
   "cell_type": "code",
   "execution_count": 34,
   "metadata": {},
   "outputs": [
    {
     "data": {
      "text/plain": [
       "(562, 8)"
      ]
     },
     "execution_count": 34,
     "metadata": {},
     "output_type": "execute_result"
    }
   ],
   "source": [
    "non_transfer_matrix = np.repeat(non_transfer_distances, transfer_distances.shape[1], axis=1)\n",
    "non_transfer_matrix.shape"
   ]
  },
  {
   "cell_type": "code",
   "execution_count": 36,
   "metadata": {},
   "outputs": [],
   "source": [
    "distances_from_transfers = np.absolute(transfer_matrix - non_transfer_matrix)"
   ]
  },
  {
   "cell_type": "code",
   "execution_count": 38,
   "metadata": {},
   "outputs": [],
   "source": [
    "fivehundred = 500 * np.ones(distances_from_transfers.shape)\n",
    "less_than_500 = np.less(distances_from_transfers, fivehundred)"
   ]
  },
  {
   "cell_type": "code",
   "execution_count": 42,
   "metadata": {},
   "outputs": [
    {
     "data": {
      "text/plain": [
       "array([[ True,  True, False, ..., False, False, False],\n",
       "       [ True,  True, False, ..., False, False, False],\n",
       "       [ True,  True, False, ..., False, False, False],\n",
       "       ...,\n",
       "       [False, False, False, ..., False, False,  True],\n",
       "       [False, False, False, ..., False, False,  True],\n",
       "       [False, False, False, ..., False, False,  True]])"
      ]
     },
     "execution_count": 42,
     "metadata": {},
     "output_type": "execute_result"
    }
   ],
   "source": [
    "less_than_500"
   ]
  },
  {
   "cell_type": "code",
   "execution_count": 51,
   "metadata": {},
   "outputs": [
    {
     "data": {
      "text/plain": [
       "(562,)"
      ]
     },
     "execution_count": 51,
     "metadata": {},
     "output_type": "execute_result"
    }
   ],
   "source": [
    "stop_invalid = np.any(less_than_500, axis=1)\n",
    "stop_invalid.shape"
   ]
  },
  {
   "cell_type": "code",
   "execution_count": 52,
   "metadata": {},
   "outputs": [
    {
     "data": {
      "text/plain": [
       "(562,)"
      ]
     },
     "execution_count": 52,
     "metadata": {},
     "output_type": "execute_result"
    }
   ],
   "source": [
    "stop_valid = np.logical_not(stop_invalid)\n",
    "stop_valid.shape"
   ]
  },
  {
   "cell_type": "code",
   "execution_count": 54,
   "metadata": {},
   "outputs": [
    {
     "data": {
      "text/plain": [
       "531"
      ]
     },
     "execution_count": 54,
     "metadata": {},
     "output_type": "execute_result"
    }
   ],
   "source": [
    "np.sum(stop_valid)"
   ]
  },
  {
   "cell_type": "code",
   "execution_count": 56,
   "metadata": {},
   "outputs": [],
   "source": [
    "r25_valid = r25[r25['Transfer'] == 'No'][stop_valid]"
   ]
  },
  {
   "cell_type": "code",
   "execution_count": 57,
   "metadata": {},
   "outputs": [
    {
     "data": {
      "text/html": [
       "<div>\n",
       "<style scoped>\n",
       "    .dataframe tbody tr th:only-of-type {\n",
       "        vertical-align: middle;\n",
       "    }\n",
       "\n",
       "    .dataframe tbody tr th {\n",
       "        vertical-align: top;\n",
       "    }\n",
       "\n",
       "    .dataframe thead th {\n",
       "        text-align: right;\n",
       "    }\n",
       "</style>\n",
       "<table border=\"1\" class=\"dataframe\">\n",
       "  <thead>\n",
       "    <tr style=\"text-align: right;\">\n",
       "      <th></th>\n",
       "      <th>UniqueNum</th>\n",
       "      <th>Distance from initial stop (feet)</th>\n",
       "      <th>SqFtBuffere</th>\n",
       "      <th>Est_TotPop</th>\n",
       "      <th>Est_TotMinority</th>\n",
       "      <th>Est_TotPov</th>\n",
       "      <th>Est_TotLEP</th>\n",
       "      <th>Est_TotPop_Density</th>\n",
       "      <th>Transfer</th>\n",
       "      <th>CorrespondingStopID</th>\n",
       "    </tr>\n",
       "  </thead>\n",
       "  <tbody>\n",
       "    <tr>\n",
       "      <td>17</td>\n",
       "      <td>818</td>\n",
       "      <td>3500</td>\n",
       "      <td>2.183919e+04</td>\n",
       "      <td>612</td>\n",
       "      <td>448</td>\n",
       "      <td>217</td>\n",
       "      <td>25</td>\n",
       "      <td>3116.89</td>\n",
       "      <td>No</td>\n",
       "      <td>1796.0</td>\n",
       "    </tr>\n",
       "    <tr>\n",
       "      <td>18</td>\n",
       "      <td>819</td>\n",
       "      <td>3600</td>\n",
       "      <td>3.728755e+06</td>\n",
       "      <td>597</td>\n",
       "      <td>438</td>\n",
       "      <td>210</td>\n",
       "      <td>24</td>\n",
       "      <td>3040.50</td>\n",
       "      <td>No</td>\n",
       "      <td>NaN</td>\n",
       "    </tr>\n",
       "    <tr>\n",
       "      <td>19</td>\n",
       "      <td>820</td>\n",
       "      <td>3700</td>\n",
       "      <td>3.923674e+06</td>\n",
       "      <td>582</td>\n",
       "      <td>427</td>\n",
       "      <td>203</td>\n",
       "      <td>22</td>\n",
       "      <td>2964.10</td>\n",
       "      <td>No</td>\n",
       "      <td>NaN</td>\n",
       "    </tr>\n",
       "    <tr>\n",
       "      <td>20</td>\n",
       "      <td>821</td>\n",
       "      <td>3800</td>\n",
       "      <td>4.108728e+06</td>\n",
       "      <td>568</td>\n",
       "      <td>419</td>\n",
       "      <td>199</td>\n",
       "      <td>21</td>\n",
       "      <td>2892.80</td>\n",
       "      <td>No</td>\n",
       "      <td>NaN</td>\n",
       "    </tr>\n",
       "    <tr>\n",
       "      <td>21</td>\n",
       "      <td>822</td>\n",
       "      <td>3900</td>\n",
       "      <td>4.278930e+06</td>\n",
       "      <td>556</td>\n",
       "      <td>411</td>\n",
       "      <td>195</td>\n",
       "      <td>20</td>\n",
       "      <td>2831.68</td>\n",
       "      <td>No</td>\n",
       "      <td>NaN</td>\n",
       "    </tr>\n",
       "  </tbody>\n",
       "</table>\n",
       "</div>"
      ],
      "text/plain": [
       "    UniqueNum  Distance from initial stop (feet)   SqFtBuffere  Est_TotPop  \\\n",
       "17        818                               3500  2.183919e+04         612   \n",
       "18        819                               3600  3.728755e+06         597   \n",
       "19        820                               3700  3.923674e+06         582   \n",
       "20        821                               3800  4.108728e+06         568   \n",
       "21        822                               3900  4.278930e+06         556   \n",
       "\n",
       "    Est_TotMinority  Est_TotPov  Est_TotLEP  Est_TotPop_Density Transfer  \\\n",
       "17              448         217          25             3116.89       No   \n",
       "18              438         210          24             3040.50       No   \n",
       "19              427         203          22             2964.10       No   \n",
       "20              419         199          21             2892.80       No   \n",
       "21              411         195          20             2831.68       No   \n",
       "\n",
       "    CorrespondingStopID  \n",
       "17               1796.0  \n",
       "18                  NaN  \n",
       "19                  NaN  \n",
       "20                  NaN  \n",
       "21                  NaN  "
      ]
     },
     "execution_count": 57,
     "metadata": {},
     "output_type": "execute_result"
    }
   ],
   "source": [
    "r25_valid.head()"
   ]
  },
  {
   "cell_type": "code",
   "execution_count": 60,
   "metadata": {},
   "outputs": [],
   "source": [
    "r25_valid.to_csv('../data/route_25_valid_nontransfer.csv', index=False)"
   ]
  },
  {
   "cell_type": "code",
   "execution_count": null,
   "metadata": {},
   "outputs": [],
   "source": []
  }
 ],
 "metadata": {
  "kernelspec": {
   "display_name": "Python 3",
   "language": "python",
   "name": "python3"
  },
  "language_info": {
   "codemirror_mode": {
    "name": "ipython",
    "version": 3
   },
   "file_extension": ".py",
   "mimetype": "text/x-python",
   "name": "python",
   "nbconvert_exporter": "python",
   "pygments_lexer": "ipython3",
   "version": "3.7.4"
  }
 },
 "nbformat": 4,
 "nbformat_minor": 4
}
