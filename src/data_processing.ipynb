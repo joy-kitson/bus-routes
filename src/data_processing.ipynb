{
 "cells": [
  {
   "cell_type": "code",
   "execution_count": 1,
   "metadata": {},
   "outputs": [],
   "source": [
    "import pandas as pd"
   ]
  },
  {
   "cell_type": "code",
   "execution_count": 3,
   "metadata": {},
   "outputs": [],
   "source": [
    "worksheet_path = 'C:\\\\Users\\\\Migue\\\\Google Drive\\\\School\\\\2019_20 School year (Senior year)\\\\Fall\\\\Math 512\\\\Contemporary Applications of Mathematics\\\\Data\\\\PotentialStops_and_RealStops.xlsx'\n",
    "\n",
    "workbook_sheets = pd.read_excel(worksheet_path, sheet_name=[0,1,2])"
   ]
  },
  {
   "cell_type": "code",
   "execution_count": 17,
   "metadata": {},
   "outputs": [],
   "source": [
    "correct_columns = workbook_sheets[2][['UniqueNum', 'Distance from initial stop (feet)', 'SqFtBuffere',\n",
    "       'Est_TotPop', 'Est_TotMinority', 'Est_TotPov', 'Est_TotLEP',\n",
    "       'Est_TotPop_Density', 'Transfer', 'CorrespondingStopID']]\n",
    "\n",
    "correct_columns.to_csv('..\\\\data\\\\route25_potential_and_real_stops.csv', index=False)"
   ]
  },
  {
   "cell_type": "code",
   "execution_count": null,
   "metadata": {},
   "outputs": [],
   "source": []
  }
 ],
 "metadata": {
  "kernelspec": {
   "display_name": "Python 3",
   "language": "python",
   "name": "python3"
  },
  "language_info": {
   "codemirror_mode": {
    "name": "ipython",
    "version": 3
   },
   "file_extension": ".py",
   "mimetype": "text/x-python",
   "name": "python",
   "nbconvert_exporter": "python",
   "pygments_lexer": "ipython3",
   "version": "3.6.8"
  }
 },
 "nbformat": 4,
 "nbformat_minor": 2
}
